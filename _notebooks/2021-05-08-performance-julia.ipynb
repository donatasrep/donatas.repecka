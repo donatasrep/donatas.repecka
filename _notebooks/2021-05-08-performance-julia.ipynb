{
 "cells": [
  {
   "cell_type": "markdown",
   "metadata": {
    "colab_type": "text",
    "id": "VrE1kciUIxD5"
   },
   "source": [
    "# Performance Analysis -  Julia\n",
    "> Number of effective sequences implemented in Julia\n",
    "- toc: true\n",
    "- branch: master\n",
    "- badges: true\n",
    "- author: Donatas Repečka\n",
    "- categories: [performance]"
   ]
  },
  {
   "cell_type": "markdown",
   "metadata": {
    "colab_type": "text",
    "id": "OVXv9X4d_dND"
   },
   "source": [
    "## Introduction"
   ]
  },
  {
   "cell_type": "markdown",
   "metadata": {
    "colab_type": "text",
    "id": "skMnA5NeIU4O"
   },
   "source": [
    "In [the previous post](https://donatasrep.github.io/donatas.repecka/performance/2021/04/27/Performance-comparison.html) I have compared various languages and libraries in terms of their speed. This notebook contains the code of Julia implementation. I have struggled to make it run in parallel. I am also not sure if the code is actually optimal, but I include this for completion. "
   ]
  },
  {
   "cell_type": "markdown",
   "metadata": {},
   "source": [
    "## Getting data"
   ]
  },
  {
   "cell_type": "code",
   "execution_count": null,
   "metadata": {},
   "outputs": [],
   "source": [
    "import Statistics\n",
    "using NPZ"
   ]
  },
  {
   "cell_type": "code",
   "execution_count": null,
   "metadata": {},
   "outputs": [],
   "source": [
    "input_data = npzread(npz_file_path)\n",
    "input_data = Int.(input_data)"
   ]
  },
  {
   "cell_type": "markdown",
   "metadata": {},
   "source": [
    "## Algorithm"
   ]
  },
  {
   "cell_type": "code",
   "execution_count": null,
   "metadata": {},
   "outputs": [],
   "source": [
    "function get_nf_row(input_data)\n",
    "    dim1, dim2 = size(input_data)\n",
    "    pairwise_id = input_data[2:dim1,:] .== reshape(input_data[1,:], (1,dim2))\n",
    "    pairwise_id = Statistics.mean(pairwise_id, dims=2)\n",
    "    pairwise_id .> 0.8\n",
    "end"
   ]
  },
  {
   "cell_type": "code",
   "execution_count": null,
   "metadata": {},
   "outputs": [],
   "source": [
    "function get_nf_julia(input_data)\n",
    "    n_seqs, seq_len = size(input_data)\n",
    "    is_same_cluster = ones((n_seqs,n_seqs))\n",
    "\n",
    "    Threads.@threads for t in 1:24\n",
    "        for i in 1+t:24:n_seqs-1\n",
    "            out = get_nf_row(input_data[i:n_seqs, :])\n",
    "            is_same_cluster[i, i+1:n_seqs] =out\n",
    "            is_same_cluster[i+1:n_seqs, i] =out\n",
    "        end\n",
    "    end\n",
    "    s = 1.0./sum(is_same_cluster, dims=2)\n",
    "    sum(s)/(seq_len^0.5)\n",
    "end"
   ]
  },
  {
   "cell_type": "code",
   "execution_count": null,
   "metadata": {},
   "outputs": [],
   "source": [
    "@time get_nf_julia(input_data)"
   ]
  }
 ],
 "metadata": {
  "accelerator": "GPU",
  "colab": {
   "collapsed_sections": [],
   "name": "2020-04-08-spectral-norm.ipynb",
   "provenance": []
  },
  "kernelspec": {
   "display_name": "Python 3",
   "language": "python",
   "name": "python3"
  },
  "language_info": {
   "codemirror_mode": {
    "name": "ipython",
    "version": 3
   },
   "file_extension": ".py",
   "mimetype": "text/x-python",
   "name": "python",
   "nbconvert_exporter": "python",
   "pygments_lexer": "ipython3",
   "version": "3.9.1"
  }
 },
 "nbformat": 4,
 "nbformat_minor": 1
}

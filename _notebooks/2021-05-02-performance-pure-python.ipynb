{
 "cells": [
  {
   "cell_type": "markdown",
   "id": "reverse-valuable",
   "metadata": {},
   "source": [
    "# Performance Analysis: Pure Python\n",
    "> Number of effective sequences implemented in Pure Python\n",
    "\n",
    "- badges: true\n",
    "- author: Donatas Repecka\n",
    "- categories: [performance]"
   ]
  },
  {
   "cell_type": "code",
   "execution_count": null,
   "id": "liberal-donna",
   "metadata": {},
   "outputs": [],
   "source": []
  }
 ],
 "metadata": {
  "kernelspec": {
   "display_name": "Python 3",
   "language": "python",
   "name": "python3"
  },
  "language_info": {
   "codemirror_mode": {
    "name": "ipython",
    "version": 3
   },
   "file_extension": ".py",
   "mimetype": "text/x-python",
   "name": "python",
   "nbconvert_exporter": "python",
   "pygments_lexer": "ipython3",
   "version": "3.9.1"
  }
 },
 "nbformat": 4,
 "nbformat_minor": 5
}
